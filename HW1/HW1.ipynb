{
 "cells": [
  {
   "cell_type": "code",
   "execution_count": 1,
   "id": "4706d85d",
   "metadata": {},
   "outputs": [],
   "source": [
    "import pandas as pd\n",
    "import numpy as np"
   ]
  },
  {
   "cell_type": "code",
   "execution_count": 2,
   "id": "1e51e94f",
   "metadata": {},
   "outputs": [],
   "source": [
    "dataset = pd.read_csv(\"experiment.txt\")"
   ]
  },
  {
   "cell_type": "code",
   "execution_count": 3,
   "id": "fe5482a5",
   "metadata": {},
   "outputs": [
    {
     "data": {
      "text/html": [
       "<div>\n",
       "<style scoped>\n",
       "    .dataframe tbody tr th:only-of-type {\n",
       "        vertical-align: middle;\n",
       "    }\n",
       "\n",
       "    .dataframe tbody tr th {\n",
       "        vertical-align: top;\n",
       "    }\n",
       "\n",
       "    .dataframe thead th {\n",
       "        text-align: right;\n",
       "    }\n",
       "</style>\n",
       "<table border=\"1\" class=\"dataframe\">\n",
       "  <thead>\n",
       "    <tr style=\"text-align: right;\">\n",
       "      <th></th>\n",
       "      <th>x</th>\n",
       "      <th>y</th>\n",
       "    </tr>\n",
       "  </thead>\n",
       "  <tbody>\n",
       "    <tr>\n",
       "      <th>0</th>\n",
       "      <td>0</td>\n",
       "      <td>5.060758</td>\n",
       "    </tr>\n",
       "    <tr>\n",
       "      <th>1</th>\n",
       "      <td>0</td>\n",
       "      <td>4.589827</td>\n",
       "    </tr>\n",
       "    <tr>\n",
       "      <th>2</th>\n",
       "      <td>0</td>\n",
       "      <td>4.334874</td>\n",
       "    </tr>\n",
       "    <tr>\n",
       "      <th>3</th>\n",
       "      <td>0</td>\n",
       "      <td>5.175538</td>\n",
       "    </tr>\n",
       "    <tr>\n",
       "      <th>4</th>\n",
       "      <td>0</td>\n",
       "      <td>5.981996</td>\n",
       "    </tr>\n",
       "    <tr>\n",
       "      <th>...</th>\n",
       "      <td>...</td>\n",
       "      <td>...</td>\n",
       "    </tr>\n",
       "    <tr>\n",
       "      <th>995</th>\n",
       "      <td>19</td>\n",
       "      <td>6.217576</td>\n",
       "    </tr>\n",
       "    <tr>\n",
       "      <th>996</th>\n",
       "      <td>19</td>\n",
       "      <td>8.048165</td>\n",
       "    </tr>\n",
       "    <tr>\n",
       "      <th>997</th>\n",
       "      <td>19</td>\n",
       "      <td>5.127057</td>\n",
       "    </tr>\n",
       "    <tr>\n",
       "      <th>998</th>\n",
       "      <td>19</td>\n",
       "      <td>6.717842</td>\n",
       "    </tr>\n",
       "    <tr>\n",
       "      <th>999</th>\n",
       "      <td>19</td>\n",
       "      <td>7.244118</td>\n",
       "    </tr>\n",
       "  </tbody>\n",
       "</table>\n",
       "<p>1000 rows × 2 columns</p>\n",
       "</div>"
      ],
      "text/plain": [
       "      x         y\n",
       "0     0  5.060758\n",
       "1     0  4.589827\n",
       "2     0  4.334874\n",
       "3     0  5.175538\n",
       "4     0  5.981996\n",
       "..   ..       ...\n",
       "995  19  6.217576\n",
       "996  19  8.048165\n",
       "997  19  5.127057\n",
       "998  19  6.717842\n",
       "999  19  7.244118\n",
       "\n",
       "[1000 rows x 2 columns]"
      ]
     },
     "execution_count": 3,
     "metadata": {},
     "output_type": "execute_result"
    }
   ],
   "source": [
    "dataset"
   ]
  },
  {
   "cell_type": "code",
   "execution_count": 4,
   "id": "9ad7684e",
   "metadata": {},
   "outputs": [
    {
     "data": {
      "text/plain": [
       "LinearRegression()"
      ]
     },
     "execution_count": 4,
     "metadata": {},
     "output_type": "execute_result"
    }
   ],
   "source": [
    "from sklearn.linear_model import LinearRegression\n",
    "\n",
    "# Creating an object of Linear Regression\n",
    "lm = LinearRegression()\n",
    "x = np.array(dataset[\"x\"]).reshape(-1,1)\n",
    "y = np.array(dataset[\"y\"])\n",
    "# Fit the model using .fit() method\n",
    "lm.fit(x,y)"
   ]
  },
  {
   "cell_type": "code",
   "execution_count": 5,
   "id": "af32fc0a",
   "metadata": {},
   "outputs": [
    {
     "name": "stdout",
     "output_type": "stream",
     "text": [
      "Intercept : 4.528512452357916\n",
      "Slope : [0.09923934]\n"
     ]
    }
   ],
   "source": [
    "# Intercept value\n",
    "print(\"Intercept :\",lm.intercept_)\n",
    "\n",
    "# Slope value\n",
    "print('Slope :',lm.coef_)"
   ]
  },
  {
   "cell_type": "code",
   "execution_count": 6,
   "id": "24f6cb3d",
   "metadata": {},
   "outputs": [
    {
     "name": "stdout",
     "output_type": "stream",
     "text": [
      "0.21072725319848384\n"
     ]
    }
   ],
   "source": [
    "from sklearn.metrics import r2_score\n",
    "y_train_pred = lm.predict(x)\n",
    "print(r2_score(y,y_train_pred))"
   ]
  },
  {
   "cell_type": "code",
   "execution_count": 8,
   "id": "e8fa5f40",
   "metadata": {},
   "outputs": [],
   "source": [
    "import statsmodels.api as sm\n",
    "y_train = dataset[\"y\"]\n",
    "x_train_lm = dataset[\"x\"]\n",
    "x_train_lm = sm.add_constant(x_train_lm)\n",
    "lm = sm.OLS(y_train, x_train_lm).fit()"
   ]
  },
  {
   "cell_type": "code",
   "execution_count": 9,
   "id": "ce048e36",
   "metadata": {},
   "outputs": [
    {
     "name": "stdout",
     "output_type": "stream",
     "text": [
      "                            OLS Regression Results                            \n",
      "==============================================================================\n",
      "Dep. Variable:                      y   R-squared:                       0.211\n",
      "Model:                            OLS   Adj. R-squared:                  0.210\n",
      "Method:                 Least Squares   F-statistic:                     266.5\n",
      "Date:                Tue, 31 Jan 2023   Prob (F-statistic):           2.85e-53\n",
      "Time:                        01:24:15   Log-Likelihood:                -1521.0\n",
      "No. Observations:                1000   AIC:                             3046.\n",
      "Df Residuals:                     998   BIC:                             3056.\n",
      "Df Model:                           1                                         \n",
      "Covariance Type:            nonrobust                                         \n",
      "==============================================================================\n",
      "                 coef    std err          t      P>|t|      [0.025      0.975]\n",
      "------------------------------------------------------------------------------\n",
      "const          4.5285      0.068     67.027      0.000       4.396       4.661\n",
      "x              0.0992      0.006     16.323      0.000       0.087       0.111\n",
      "==============================================================================\n",
      "Omnibus:                        2.551   Durbin-Watson:                   1.999\n",
      "Prob(Omnibus):                  0.279   Jarque-Bera (JB):                2.419\n",
      "Skew:                          -0.114   Prob(JB):                        0.298\n",
      "Kurtosis:                       3.080   Cond. No.                         21.5\n",
      "==============================================================================\n",
      "\n",
      "Notes:\n",
      "[1] Standard Errors assume that the covariance matrix of the errors is correctly specified.\n"
     ]
    }
   ],
   "source": [
    "print(lm.summary())"
   ]
  },
  {
   "cell_type": "code",
   "execution_count": 10,
   "id": "e9d57345",
   "metadata": {},
   "outputs": [
    {
     "data": {
      "text/html": [
       "<div>\n",
       "<style scoped>\n",
       "    .dataframe tbody tr th:only-of-type {\n",
       "        vertical-align: middle;\n",
       "    }\n",
       "\n",
       "    .dataframe tbody tr th {\n",
       "        vertical-align: top;\n",
       "    }\n",
       "\n",
       "    .dataframe thead th {\n",
       "        text-align: right;\n",
       "    }\n",
       "</style>\n",
       "<table border=\"1\" class=\"dataframe\">\n",
       "  <thead>\n",
       "    <tr style=\"text-align: right;\">\n",
       "      <th></th>\n",
       "      <th>0</th>\n",
       "      <th>1</th>\n",
       "    </tr>\n",
       "  </thead>\n",
       "  <tbody>\n",
       "    <tr>\n",
       "      <th>const</th>\n",
       "      <td>4.395932</td>\n",
       "      <td>4.661093</td>\n",
       "    </tr>\n",
       "    <tr>\n",
       "      <th>x</th>\n",
       "      <td>0.087309</td>\n",
       "      <td>0.111170</td>\n",
       "    </tr>\n",
       "  </tbody>\n",
       "</table>\n",
       "</div>"
      ],
      "text/plain": [
       "              0         1\n",
       "const  4.395932  4.661093\n",
       "x      0.087309  0.111170"
      ]
     },
     "execution_count": 10,
     "metadata": {},
     "output_type": "execute_result"
    }
   ],
   "source": [
    "lm.conf_int(alpha=0.05, cols=None)"
   ]
  },
  {
   "cell_type": "code",
   "execution_count": 11,
   "id": "05da7bee",
   "metadata": {},
   "outputs": [
    {
     "data": {
      "text/plain": [
       "const    0.000000e+00\n",
       "x        2.851809e-53\n",
       "dtype: float64"
      ]
     },
     "execution_count": 11,
     "metadata": {},
     "output_type": "execute_result"
    }
   ],
   "source": [
    "lm.pvalues"
   ]
  },
  {
   "cell_type": "code",
   "execution_count": 12,
   "id": "c15981d5",
   "metadata": {},
   "outputs": [],
   "source": [
    "volcano =pd.read_csv(\"volcano.txt\")"
   ]
  },
  {
   "cell_type": "code",
   "execution_count": 19,
   "id": "69802813",
   "metadata": {},
   "outputs": [
    {
     "data": {
      "text/html": [
       "<div>\n",
       "<style scoped>\n",
       "    .dataframe tbody tr th:only-of-type {\n",
       "        vertical-align: middle;\n",
       "    }\n",
       "\n",
       "    .dataframe tbody tr th {\n",
       "        vertical-align: top;\n",
       "    }\n",
       "\n",
       "    .dataframe thead th {\n",
       "        text-align: right;\n",
       "    }\n",
       "</style>\n",
       "<table border=\"1\" class=\"dataframe\">\n",
       "  <thead>\n",
       "    <tr style=\"text-align: right;\">\n",
       "      <th></th>\n",
       "      <th>duration</th>\n",
       "      <th>next</th>\n",
       "    </tr>\n",
       "  </thead>\n",
       "  <tbody>\n",
       "    <tr>\n",
       "      <th>count</th>\n",
       "      <td>21.000000</td>\n",
       "      <td>21.000000</td>\n",
       "    </tr>\n",
       "    <tr>\n",
       "      <th>mean</th>\n",
       "      <td>3.238095</td>\n",
       "      <td>62.714286</td>\n",
       "    </tr>\n",
       "    <tr>\n",
       "      <th>std</th>\n",
       "      <td>1.054266</td>\n",
       "      <td>11.925363</td>\n",
       "    </tr>\n",
       "    <tr>\n",
       "      <th>min</th>\n",
       "      <td>1.700000</td>\n",
       "      <td>43.000000</td>\n",
       "    </tr>\n",
       "    <tr>\n",
       "      <th>25%</th>\n",
       "      <td>2.200000</td>\n",
       "      <td>53.000000</td>\n",
       "    </tr>\n",
       "    <tr>\n",
       "      <th>50%</th>\n",
       "      <td>3.500000</td>\n",
       "      <td>62.000000</td>\n",
       "    </tr>\n",
       "    <tr>\n",
       "      <th>75%</th>\n",
       "      <td>4.000000</td>\n",
       "      <td>72.000000</td>\n",
       "    </tr>\n",
       "    <tr>\n",
       "      <th>max</th>\n",
       "      <td>4.900000</td>\n",
       "      <td>85.000000</td>\n",
       "    </tr>\n",
       "  </tbody>\n",
       "</table>\n",
       "</div>"
      ],
      "text/plain": [
       "        duration       next\n",
       "count  21.000000  21.000000\n",
       "mean    3.238095  62.714286\n",
       "std     1.054266  11.925363\n",
       "min     1.700000  43.000000\n",
       "25%     2.200000  53.000000\n",
       "50%     3.500000  62.000000\n",
       "75%     4.000000  72.000000\n",
       "max     4.900000  85.000000"
      ]
     },
     "execution_count": 19,
     "metadata": {},
     "output_type": "execute_result"
    }
   ],
   "source": [
    "volcano.describe()"
   ]
  },
  {
   "cell_type": "code",
   "execution_count": 14,
   "id": "fa74af1c",
   "metadata": {},
   "outputs": [],
   "source": [
    "y_train = volcano[\"next\"]\n",
    "x_train_lm = volcano[\"duration\"]\n",
    "x_train_lm = sm.add_constant(x_train_lm)\n",
    "lm = sm.OLS(y_train, x_train_lm).fit()"
   ]
  },
  {
   "cell_type": "code",
   "execution_count": 15,
   "id": "e7629364",
   "metadata": {},
   "outputs": [
    {
     "name": "stdout",
     "output_type": "stream",
     "text": [
      "                            OLS Regression Results                            \n",
      "==============================================================================\n",
      "Dep. Variable:                   next   R-squared:                       0.749\n",
      "Model:                            OLS   Adj. R-squared:                  0.736\n",
      "Method:                 Least Squares   F-statistic:                     56.72\n",
      "Date:                Tue, 31 Jan 2023   Prob (F-statistic):           4.06e-07\n",
      "Time:                        01:24:20   Log-Likelihood:                -66.820\n",
      "No. Observations:                  21   AIC:                             137.6\n",
      "Df Residuals:                      19   BIC:                             139.7\n",
      "Df Model:                           1                                         \n",
      "Covariance Type:            nonrobust                                         \n",
      "==============================================================================\n",
      "                 coef    std err          t      P>|t|      [0.025      0.975]\n",
      "------------------------------------------------------------------------------\n",
      "const         31.0131      4.417      7.022      0.000      21.769      40.257\n",
      "duration       9.7901      1.300      7.531      0.000       7.069      12.511\n",
      "==============================================================================\n",
      "Omnibus:                        0.159   Durbin-Watson:                   2.554\n",
      "Prob(Omnibus):                  0.923   Jarque-Bera (JB):                0.375\n",
      "Skew:                          -0.002   Prob(JB):                        0.829\n",
      "Kurtosis:                       2.345   Cond. No.                         12.1\n",
      "==============================================================================\n",
      "\n",
      "Notes:\n",
      "[1] Standard Errors assume that the covariance matrix of the errors is correctly specified.\n"
     ]
    }
   ],
   "source": [
    "print(lm.summary())"
   ]
  },
  {
   "cell_type": "code",
   "execution_count": 21,
   "id": "94a891d9",
   "metadata": {},
   "outputs": [
    {
     "data": {
      "text/html": [
       "<div>\n",
       "<style scoped>\n",
       "    .dataframe tbody tr th:only-of-type {\n",
       "        vertical-align: middle;\n",
       "    }\n",
       "\n",
       "    .dataframe tbody tr th {\n",
       "        vertical-align: top;\n",
       "    }\n",
       "\n",
       "    .dataframe thead th {\n",
       "        text-align: right;\n",
       "    }\n",
       "</style>\n",
       "<table border=\"1\" class=\"dataframe\">\n",
       "  <thead>\n",
       "    <tr style=\"text-align: right;\">\n",
       "      <th></th>\n",
       "      <th>mean</th>\n",
       "      <th>mean_se</th>\n",
       "      <th>mean_ci_lower</th>\n",
       "      <th>mean_ci_upper</th>\n",
       "      <th>obs_ci_lower</th>\n",
       "      <th>obs_ci_upper</th>\n",
       "    </tr>\n",
       "  </thead>\n",
       "  <tbody>\n",
       "    <tr>\n",
       "      <th>0</th>\n",
       "      <td>50.593248</td>\n",
       "      <td>2.092578</td>\n",
       "      <td>46.213432</td>\n",
       "      <td>54.973064</td>\n",
       "      <td>37.038375</td>\n",
       "      <td>64.148121</td>\n",
       "    </tr>\n",
       "    <tr>\n",
       "      <th>1</th>\n",
       "      <td>48.635234</td>\n",
       "      <td>2.298544</td>\n",
       "      <td>43.824326</td>\n",
       "      <td>53.446142</td>\n",
       "      <td>34.934992</td>\n",
       "      <td>62.335476</td>\n",
       "    </tr>\n",
       "    <tr>\n",
       "      <th>2</th>\n",
       "      <td>67.236365</td>\n",
       "      <td>1.466018</td>\n",
       "      <td>64.167954</td>\n",
       "      <td>70.304776</td>\n",
       "      <td>54.046712</td>\n",
       "      <td>80.426018</td>\n",
       "    </tr>\n",
       "    <tr>\n",
       "      <th>3</th>\n",
       "      <td>52.551262</td>\n",
       "      <td>1.899905</td>\n",
       "      <td>48.574714</td>\n",
       "      <td>56.527810</td>\n",
       "      <td>39.121268</td>\n",
       "      <td>65.981255</td>\n",
       "    </tr>\n",
       "    <tr>\n",
       "      <th>4</th>\n",
       "      <td>51.572255</td>\n",
       "      <td>1.994333</td>\n",
       "      <td>47.398068</td>\n",
       "      <td>55.746442</td>\n",
       "      <td>38.082421</td>\n",
       "      <td>65.062089</td>\n",
       "    </tr>\n",
       "    <tr>\n",
       "      <th>5</th>\n",
       "      <td>54.509276</td>\n",
       "      <td>1.724987</td>\n",
       "      <td>50.898836</td>\n",
       "      <td>58.119715</td>\n",
       "      <td>41.183096</td>\n",
       "      <td>67.835455</td>\n",
       "    </tr>\n",
       "    <tr>\n",
       "      <th>6</th>\n",
       "      <td>56.467289</td>\n",
       "      <td>1.573753</td>\n",
       "      <td>53.173386</td>\n",
       "      <td>59.761193</td>\n",
       "      <td>43.223363</td>\n",
       "      <td>69.711216</td>\n",
       "    </tr>\n",
       "    <tr>\n",
       "      <th>7</th>\n",
       "      <td>58.425303</td>\n",
       "      <td>1.453616</td>\n",
       "      <td>55.382850</td>\n",
       "      <td>61.467757</td>\n",
       "      <td>45.241665</td>\n",
       "      <td>71.608941</td>\n",
       "    </tr>\n",
       "    <tr>\n",
       "      <th>8</th>\n",
       "      <td>63.320338</td>\n",
       "      <td>1.339838</td>\n",
       "      <td>60.516025</td>\n",
       "      <td>66.124650</td>\n",
       "      <td>50.189612</td>\n",
       "      <td>76.451063</td>\n",
       "    </tr>\n",
       "    <tr>\n",
       "      <th>9</th>\n",
       "      <td>65.278351</td>\n",
       "      <td>1.380071</td>\n",
       "      <td>62.389829</td>\n",
       "      <td>68.166874</td>\n",
       "      <td>52.129384</td>\n",
       "      <td>78.427319</td>\n",
       "    </tr>\n",
       "    <tr>\n",
       "      <th>10</th>\n",
       "      <td>67.236365</td>\n",
       "      <td>1.466018</td>\n",
       "      <td>64.167954</td>\n",
       "      <td>70.304776</td>\n",
       "      <td>54.046712</td>\n",
       "      <td>80.426018</td>\n",
       "    </tr>\n",
       "    <tr>\n",
       "      <th>11</th>\n",
       "      <td>68.215372</td>\n",
       "      <td>1.523879</td>\n",
       "      <td>65.025856</td>\n",
       "      <td>71.404888</td>\n",
       "      <td>54.997021</td>\n",
       "      <td>81.433723</td>\n",
       "    </tr>\n",
       "    <tr>\n",
       "      <th>12</th>\n",
       "      <td>75.068420</td>\n",
       "      <td>2.116474</td>\n",
       "      <td>70.638589</td>\n",
       "      <td>79.498252</td>\n",
       "      <td>61.497304</td>\n",
       "      <td>88.639537</td>\n",
       "    </tr>\n",
       "    <tr>\n",
       "      <th>13</th>\n",
       "      <td>77.026434</td>\n",
       "      <td>2.323785</td>\n",
       "      <td>72.162696</td>\n",
       "      <td>81.890172</td>\n",
       "      <td>63.307551</td>\n",
       "      <td>90.745317</td>\n",
       "    </tr>\n",
       "    <tr>\n",
       "      <th>14</th>\n",
       "      <td>70.173386</td>\n",
       "      <td>1.664209</td>\n",
       "      <td>66.690157</td>\n",
       "      <td>73.656615</td>\n",
       "      <td>56.881107</td>\n",
       "      <td>83.465665</td>\n",
       "    </tr>\n",
       "    <tr>\n",
       "      <th>15</th>\n",
       "      <td>70.173386</td>\n",
       "      <td>1.664209</td>\n",
       "      <td>66.690157</td>\n",
       "      <td>73.656615</td>\n",
       "      <td>56.881107</td>\n",
       "      <td>83.465665</td>\n",
       "    </tr>\n",
       "    <tr>\n",
       "      <th>16</th>\n",
       "      <td>47.656227</td>\n",
       "      <td>2.405454</td>\n",
       "      <td>42.621555</td>\n",
       "      <td>52.690900</td>\n",
       "      <td>33.875817</td>\n",
       "      <td>61.436638</td>\n",
       "    </tr>\n",
       "    <tr>\n",
       "      <th>17</th>\n",
       "      <td>48.635234</td>\n",
       "      <td>2.298544</td>\n",
       "      <td>43.824326</td>\n",
       "      <td>53.446142</td>\n",
       "      <td>34.934992</td>\n",
       "      <td>62.335476</td>\n",
       "    </tr>\n",
       "    <tr>\n",
       "      <th>18</th>\n",
       "      <td>78.984448</td>\n",
       "      <td>2.540802</td>\n",
       "      <td>73.666489</td>\n",
       "      <td>84.302407</td>\n",
       "      <td>65.098034</td>\n",
       "      <td>92.870861</td>\n",
       "    </tr>\n",
       "    <tr>\n",
       "      <th>19</th>\n",
       "      <td>72.131400</td>\n",
       "      <td>1.830889</td>\n",
       "      <td>68.299305</td>\n",
       "      <td>75.963494</td>\n",
       "      <td>58.743467</td>\n",
       "      <td>85.519332</td>\n",
       "    </tr>\n",
       "    <tr>\n",
       "      <th>20</th>\n",
       "      <td>73.110407</td>\n",
       "      <td>1.922012</td>\n",
       "      <td>69.087590</td>\n",
       "      <td>77.133223</td>\n",
       "      <td>59.666641</td>\n",
       "      <td>86.554173</td>\n",
       "    </tr>\n",
       "  </tbody>\n",
       "</table>\n",
       "</div>"
      ],
      "text/plain": [
       "         mean   mean_se  mean_ci_lower  mean_ci_upper  obs_ci_lower  \\\n",
       "0   50.593248  2.092578      46.213432      54.973064     37.038375   \n",
       "1   48.635234  2.298544      43.824326      53.446142     34.934992   \n",
       "2   67.236365  1.466018      64.167954      70.304776     54.046712   \n",
       "3   52.551262  1.899905      48.574714      56.527810     39.121268   \n",
       "4   51.572255  1.994333      47.398068      55.746442     38.082421   \n",
       "5   54.509276  1.724987      50.898836      58.119715     41.183096   \n",
       "6   56.467289  1.573753      53.173386      59.761193     43.223363   \n",
       "7   58.425303  1.453616      55.382850      61.467757     45.241665   \n",
       "8   63.320338  1.339838      60.516025      66.124650     50.189612   \n",
       "9   65.278351  1.380071      62.389829      68.166874     52.129384   \n",
       "10  67.236365  1.466018      64.167954      70.304776     54.046712   \n",
       "11  68.215372  1.523879      65.025856      71.404888     54.997021   \n",
       "12  75.068420  2.116474      70.638589      79.498252     61.497304   \n",
       "13  77.026434  2.323785      72.162696      81.890172     63.307551   \n",
       "14  70.173386  1.664209      66.690157      73.656615     56.881107   \n",
       "15  70.173386  1.664209      66.690157      73.656615     56.881107   \n",
       "16  47.656227  2.405454      42.621555      52.690900     33.875817   \n",
       "17  48.635234  2.298544      43.824326      53.446142     34.934992   \n",
       "18  78.984448  2.540802      73.666489      84.302407     65.098034   \n",
       "19  72.131400  1.830889      68.299305      75.963494     58.743467   \n",
       "20  73.110407  1.922012      69.087590      77.133223     59.666641   \n",
       "\n",
       "    obs_ci_upper  \n",
       "0      64.148121  \n",
       "1      62.335476  \n",
       "2      80.426018  \n",
       "3      65.981255  \n",
       "4      65.062089  \n",
       "5      67.835455  \n",
       "6      69.711216  \n",
       "7      71.608941  \n",
       "8      76.451063  \n",
       "9      78.427319  \n",
       "10     80.426018  \n",
       "11     81.433723  \n",
       "12     88.639537  \n",
       "13     90.745317  \n",
       "14     83.465665  \n",
       "15     83.465665  \n",
       "16     61.436638  \n",
       "17     62.335476  \n",
       "18     92.870861  \n",
       "19     85.519332  \n",
       "20     86.554173  "
      ]
     },
     "execution_count": 21,
     "metadata": {},
     "output_type": "execute_result"
    }
   ],
   "source": [
    "predictions = lm.get_prediction(x_train_lm)\n",
    "predictions.summary_frame(alpha=0.05)"
   ]
  },
  {
   "cell_type": "code",
   "execution_count": 20,
   "id": "32d587b8",
   "metadata": {},
   "outputs": [
    {
     "data": {
      "text/plain": [
       "<statsmodels.regression._prediction.PredictionResults at 0x2af4b61ea00>"
      ]
     },
     "execution_count": 20,
     "metadata": {},
     "output_type": "execute_result"
    }
   ],
   "source": []
  },
  {
   "cell_type": "code",
   "execution_count": 22,
   "id": "7a704a64",
   "metadata": {},
   "outputs": [
    {
     "data": {
      "text/plain": [
       "1.940755873340143"
      ]
     },
     "execution_count": 22,
     "metadata": {},
     "output_type": "execute_result"
    }
   ],
   "source": [
    "(50-31)/9.79"
   ]
  },
  {
   "cell_type": "code",
   "execution_count": null,
   "id": "df9d823a",
   "metadata": {},
   "outputs": [],
   "source": []
  }
 ],
 "metadata": {
  "kernelspec": {
   "display_name": "Python 3 (ipykernel)",
   "language": "python",
   "name": "python3"
  },
  "language_info": {
   "codemirror_mode": {
    "name": "ipython",
    "version": 3
   },
   "file_extension": ".py",
   "mimetype": "text/x-python",
   "name": "python",
   "nbconvert_exporter": "python",
   "pygments_lexer": "ipython3",
   "version": "3.9.13"
  }
 },
 "nbformat": 4,
 "nbformat_minor": 5
}
